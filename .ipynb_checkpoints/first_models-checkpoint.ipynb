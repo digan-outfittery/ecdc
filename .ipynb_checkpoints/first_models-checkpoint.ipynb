{
 "cells": [
  {
   "cell_type": "markdown",
   "metadata": {},
   "source": [
    "### Import the required packages"
   ]
  },
  {
   "cell_type": "code",
   "execution_count": 4,
   "metadata": {},
   "outputs": [],
   "source": [
    "import psycopg2\n",
    "import pandas as pd\n",
    "import numpy as np\n",
    "import matplotlib as plt\n",
    "import json\n",
    "\n",
    "%matplotlib inline"
   ]
  },
  {
   "cell_type": "markdown",
   "metadata": {},
   "source": [
    "### Create the connection to the database"
   ]
  },
  {
   "cell_type": "code",
   "execution_count": 5,
   "metadata": {},
   "outputs": [
    {
     "name": "stdout",
     "output_type": "stream",
     "text": [
      "Connecting to database\n",
      "host=production-bi-data-slave-1.psql.db.outfittery.de dbname=dwh user=ml password=<xBqWW1X~6dfwEh\n",
      "Connected!\n",
      "\n"
     ]
    }
   ],
   "source": [
    "#Define the connection variables\n",
    "host = 'production-bi-data-slave-1.psql.db.outfittery.de'\n",
    "dbname = 'dwh'\n",
    "user = 'ml'\n",
    "pw = '<xBqWW1X~6dfwEh'\n",
    "\n",
    "\n",
    "# Create the full connection string\n",
    "conn_string = 'host=' + host + ' dbname=' + dbname + ' user=' + user + ' password=' + pw\n",
    "\n",
    "# Print the connection string\n",
    "print('Connecting to database\\n{0}'.format(conn_string))\n",
    "\n",
    "# Get the connection object\n",
    "conn = psycopg2.connect(conn_string)\n",
    "\n",
    "# Get the cursor object that we can run queries on\n",
    "cursor = conn.cursor()\n",
    "print('Connected!\\n')"
   ]
  },
  {
   "cell_type": "markdown",
   "metadata": {},
   "source": [
    "### Run the query to get the order & cm1 data in a pandas series"
   ]
  },
  {
   "cell_type": "code",
   "execution_count": 7,
   "metadata": {},
   "outputs": [
    {
     "name": "stdout",
     "output_type": "stream",
     "text": [
      "Executed Query\n",
      "Retrieved Records\n"
     ]
    }
   ],
   "source": [
    "colnames = ['order_id', 'order_id_key', 'date_amount_paid', 'cm1', 'cm2', 'cm3', 'cm1_ratio', 'cm1_before_canc', 'cm1_before_canc_after_returns', 'cm1_before_canc_after_exp_returns']\n",
    "\n",
    "my_query = \"select \" + ','.join(colnames) + \" from ml.ecdc_alternative_cm_targets limit 10000\"\n",
    "\n",
    "# execute our Query\n",
    "cursor.execute(my_query)\n",
    "print('Executed Query')\n",
    "\n",
    "# retrieve the records from the database\n",
    "\n",
    "records = pd.DataFrame(cursor.fetchall(), columns = colnames)\n",
    "records['cm1'] = records['cm1'].astype(float)\n",
    "print('Retrieved Records')"
   ]
  },
  {
   "cell_type": "code",
   "execution_count": 8,
   "metadata": {},
   "outputs": [
    {
     "name": "stdout",
     "output_type": "stream",
     "text": [
      "<class 'pandas.core.frame.DataFrame'>\n",
      "RangeIndex: 10000 entries, 0 to 9999\n",
      "Data columns (total 10 columns):\n",
      "order_id                             10000 non-null int64\n",
      "order_id_key                         10000 non-null int64\n",
      "date_amount_paid                     6684 non-null datetime64[ns]\n",
      "cm1                                  10000 non-null float64\n",
      "cm2                                  10000 non-null object\n",
      "cm3                                  10000 non-null object\n",
      "cm1_ratio                            10000 non-null object\n",
      "cm1_before_canc                      10000 non-null object\n",
      "cm1_before_canc_after_returns        10000 non-null object\n",
      "cm1_before_canc_after_exp_returns    10000 non-null object\n",
      "dtypes: datetime64[ns](1), float64(1), int64(2), object(6)\n",
      "memory usage: 546.9+ KB\n"
     ]
    }
   ],
   "source": [
    "records.info()"
   ]
  },
  {
   "cell_type": "markdown",
   "metadata": {},
   "source": [
    "### Plot the different metrics"
   ]
  },
  {
   "cell_type": "code",
   "execution_count": 9,
   "metadata": {},
   "outputs": [
    {
     "data": {
      "text/plain": [
       "<matplotlib.axes._subplots.AxesSubplot at 0x8849a30>"
      ]
     },
     "execution_count": 9,
     "metadata": {},
     "output_type": "execute_result"
    },
    {
     "data": {
      "image/png": "[encoded data removed]",
      "text/plain": [
       "<matplotlib.figure.Figure at 0x2fdb2d0>"
      ]
     },
     "metadata": {},
     "output_type": "display_data"
    }
   ],
   "source": [
    "records['cm1'].plot.hist(bins = 20)"
   ]
  },
  {
   "cell_type": "code",
   "execution_count": 14,
   "metadata": {},
   "outputs": [
    {
     "data": {
      "text/plain": [
       "<matplotlib.axes._subplots.AxesSubplot at 0x8765530>"
      ]
     },
     "execution_count": 14,
     "metadata": {},
     "output_type": "execute_result"
    },
    {
     "data": {
      "image/png": "[encoded data removed]",
      "text/plain": [
       "<matplotlib.figure.Figure at 0x400a050>"
      ]
     },
     "metadata": {},
     "output_type": "display_data"
    }
   ],
   "source": [
    "records['cm1_before_canc'].astype('float32').plot.hist(bins = 20)"
   ]
  },
  {
   "cell_type": "code",
   "execution_count": 19,
   "metadata": {},
   "outputs": [
    {
     "data": {
      "text/plain": [
       "<matplotlib.axes._subplots.AxesSubplot at 0x6e3c890>"
      ]
     },
     "execution_count": 19,
     "metadata": {},
     "output_type": "execute_result"
    },
    {
     "data": {
      "image/png": "[encoded data removed]",
      "text/plain": [
       "<matplotlib.figure.Figure at 0x6f81570>"
      ]
     },
     "metadata": {},
     "output_type": "display_data"
    }
   ],
   "source": [
    "records['cm1_before_canc_after_returns'].astype('float32').plot.hist(bins = 20)"
   ]
  },
  {
   "cell_type": "code",
   "execution_count": 23,
   "metadata": {},
   "outputs": [
    {
     "name": "stderr",
     "output_type": "stream",
     "text": [
      "c:\\users\\conor\\appdata\\local\\programs\\python\\python36-32\\lib\\site-packages\\ipykernel_launcher.py:1: RuntimeWarning: invalid value encountered in log\n",
      "  \"\"\"Entry point for launching an IPython kernel.\n"
     ]
    },
    {
     "data": {
      "text/plain": [
       "<matplotlib.axes._subplots.AxesSubplot at 0x6f0eaf0>"
      ]
     },
     "execution_count": 23,
     "metadata": {},
     "output_type": "execute_result"
    },
    {
     "data": {
      "image/png": "[encoded data removed]",
      "text/plain": [
       "<matplotlib.figure.Figure at 0x6f187d0>"
      ]
     },
     "metadata": {},
     "output_type": "display_data"
    }
   ],
   "source": [
    "np.log(records['cm1_before_canc_after_returns'].astype('float32') + 1).plot.hist(bins = 20)"
   ]
  },
  {
   "cell_type": "code",
   "execution_count": 21,
   "metadata": {},
   "outputs": [
    {
     "data": {
      "text/plain": [
       "<matplotlib.axes._subplots.AxesSubplot at 0x6fe6d70>"
      ]
     },
     "execution_count": 21,
     "metadata": {},
     "output_type": "execute_result"
    },
    {
     "data": {
      "image/png": "[encoded data removed]",
      "text/plain": [
       "<matplotlib.figure.Figure at 0x6ffe170>"
      ]
     },
     "metadata": {},
     "output_type": "display_data"
    }
   ],
   "source": [
    "records['cm1_before_canc_after_exp_returns'].astype('float32').plot.hist(bins = 20)"
   ]
  },
  {
   "cell_type": "markdown",
   "metadata": {},
   "source": [
    "### Create the error function"
   ]
  },
  {
   "cell_type": "code",
   "execution_count": 53,
   "metadata": {},
   "outputs": [],
   "source": [
    "from sklearn.metrics.scorer import make_scorer\n",
    "from scipy.stats import kendalltau\n",
    "\n",
    "def kendall_rank_score(y, y_pred, X):\n",
    "    '''\n",
    "    Returns the Kendall rank coefficient for our data sorted by cm1 vs sorted by y_pred.\n",
    "    See this link for more details:\n",
    "    https://en.wikipedia.org/wiki/Kendall_rank_correlation_coefficient\n",
    "    \n",
    "    @Paramaters:\n",
    "    y: This is the 'ground truth' for the y values\n",
    "        It's not used here as we are scoring based on rank rather than by comparing predicted values with their real ones\n",
    "        It's required as a paramater by the make_scorer function from sklearn\n",
    "        \n",
    "    y_pred: our predicted y values\n",
    "    \n",
    "    X: The X values that were used to predict the y vector\n",
    "    \n",
    "    '''\n",
    "    #correct_order = np.argsort(X['cm1'])\n",
    "    correct_order = np.argsort(X)\n",
    "    predicted_order = np.argsort(y_pred)\n",
    "    return kendalltau(correct_order, predicted_order)[0]\n",
    "\n",
    "\n",
    "#kendall_rank_scorer = make_scorer(kendall_rank_error, greater_is_better=True, X = X_test)\n",
    "    "
   ]
  },
  {
   "cell_type": "code",
   "execution_count": 56,
   "metadata": {},
   "outputs": [
    {
     "data": {
      "text/plain": [
       "-0.19999999999999998"
      ]
     },
     "execution_count": 56,
     "metadata": {},
     "output_type": "execute_result"
    }
   ],
   "source": [
    "kendall_rank_score(None, [.1,.2,.3,.4,.5], [1,5,3,2,1])"
   ]
  },
  {
   "cell_type": "markdown",
   "metadata": {},
   "source": [
    "* Look at the base errors for the various different cm1 metrics"
   ]
  },
  {
   "cell_type": "code",
   "execution_count": 50,
   "metadata": {},
   "outputs": [
    {
     "name": "stdout",
     "output_type": "stream",
     "text": [
      "cm2 score: KendalltauResult(correlation=-0.017108070807080707, pvalue=0.010294955618138887)\n",
      "cm3 score: KendalltauResult(correlation=-0.002955295529552955, pvalue=0.65760895332094804)\n",
      "cm1_before_canc score: KendalltauResult(correlation=0.00041864186418641864, pvalue=0.94993747799271844)\n",
      "cm1_before_canc_after_returns score: KendalltauResult(correlation=-0.0019216321632163215, pvalue=0.77319794296439237)\n",
      "cm1_before_canc_after_exp_returns score: KendalltauResult(correlation=-0.0019216321632163215, pvalue=0.77319794296439237)\n"
     ]
    }
   ],
   "source": [
    "print('cm2 score: {0}'.format(kendall_rank_score(None, records['cm2'], records)))\n",
    "print('cm3 score: {0}'.format(kendall_rank_score(None, records['cm3'], records)))\n",
    "\n",
    "print('cm1_before_canc score: {0}'.format(kendall_rank_score(None, records['cm1_before_canc'], records)))\n",
    "print('cm1_before_canc_after_returns score: {0}'.format(kendall_rank_score(None, records['cm1_before_canc_after_returns'], records)))\n",
    "print('cm1_before_canc_after_exp_returns score: {0}'.format(kendall_rank_score(None, records['cm1_before_canc_after_exp_returns'], records)))"
   ]
  },
  {
   "cell_type": "markdown",
   "metadata": {},
   "source": [
    "### Create function to convert the json values to a row"
   ]
  },
  {
   "cell_type": "code",
   "execution_count": 37,
   "metadata": {},
   "outputs": [],
   "source": [
    "def row_mapper(row):\n",
    "    \n",
    "    original_cols = ['order_id', 'name', 'domain', 'domain_id', 'timestamp', 'cm1']\n",
    "    original_series = pd.Series({colname: row[colname] for colname in original_cols})\n",
    "    agg_series = pd.Series(row['value'])\n",
    "    \n",
    "    ret_series = pd.concat([original_series, agg_series])\n",
    "    \n",
    "    return ret_series\n",
    "\n",
    "data = records.apply(row_mapper, axis = 1)"
   ]
  },
  {
   "cell_type": "code",
   "execution_count": 38,
   "metadata": {},
   "outputs": [
    {
     "name": "stdout",
     "output_type": "stream",
     "text": [
      "<class 'pandas.core.frame.DataFrame'>\n",
      "RangeIndex: 10000 entries, 0 to 9999\n",
      "Data columns (total 27 columns):\n",
      "cm1                                  10000 non-null float64\n",
      "domain                               10000 non-null object\n",
      "domain_id                            10000 non-null int64\n",
      "name                                 10000 non-null object\n",
      "order_id                             10000 non-null int64\n",
      "timestamp                            10000 non-null datetime64[ns]\n",
      "customer_id                          10000 non-null int64\n",
      "date_observed                        10000 non-null object\n",
      "feedback_not_needed_rate_bavg        10000 non-null float64\n",
      "feedback_not_needed_rate_max         10000 non-null float64\n",
      "feedback_not_needed_rate_min         10000 non-null float64\n",
      "feedback_not_needed_rate_per_item    9956 non-null float64\n",
      "item_kept_brand_priceness_avg        9391 non-null float64\n",
      "item_kept_brand_priceness_ratio      9390 non-null float64\n",
      "item_kept_item_priceness_avg         9380 non-null float64\n",
      "item_kept_item_priceness_ratio       9379 non-null float64\n",
      "item_sent_brand_priceness_avg        10000 non-null float64\n",
      "item_sent_item_priceness_avg         9999 non-null float64\n",
      "kept_rate_per_item                   10000 non-null float64\n",
      "kept_rate_per_item_b10               9956 non-null float64\n",
      "kept_rate_per_order_bavg             10000 non-null float64\n",
      "kept_rate_per_order_max              10000 non-null float64\n",
      "kept_rate_per_order_min              10000 non-null float64\n",
      "kept_rate_per_order_stddev           10000 non-null float64\n",
      "num_orders                           10000 non-null int64\n",
      "size_feedback_rate_per_item          9956 non-null float64\n",
      "style_feedback_rate_per_item         9956 non-null float64\n",
      "dtypes: datetime64[ns](1), float64(19), int64(4), object(3)\n",
      "memory usage: 1.9+ MB\n"
     ]
    }
   ],
   "source": [
    "data.info()"
   ]
  },
  {
   "cell_type": "code",
   "execution_count": 31,
   "metadata": {},
   "outputs": [
    {
     "data": {
      "text/html": [
       "<div>\n",
       "<style scoped>\n",
       "    .dataframe tbody tr th:only-of-type {\n",
       "        vertical-align: middle;\n",
       "    }\n",
       "\n",
       "    .dataframe tbody tr th {\n",
       "        vertical-align: top;\n",
       "    }\n",
       "\n",
       "    .dataframe thead th {\n",
       "        text-align: right;\n",
       "    }\n",
       "</style>\n",
       "<table border=\"1\" class=\"dataframe\">\n",
       "  <thead>\n",
       "    <tr style=\"text-align: right;\">\n",
       "      <th></th>\n",
       "      <th>cm1</th>\n",
       "      <th>domain</th>\n",
       "      <th>domain_id</th>\n",
       "      <th>name</th>\n",
       "      <th>order_id</th>\n",
       "      <th>timestamp</th>\n",
       "      <th>customer_id</th>\n",
       "      <th>date_observed</th>\n",
       "      <th>feedback_not_needed_rate_bavg</th>\n",
       "      <th>feedback_not_needed_rate_max</th>\n",
       "      <th>...</th>\n",
       "      <th>item_sent_item_priceness_avg</th>\n",
       "      <th>kept_rate_per_item</th>\n",
       "      <th>kept_rate_per_item_b10</th>\n",
       "      <th>kept_rate_per_order_bavg</th>\n",
       "      <th>kept_rate_per_order_max</th>\n",
       "      <th>kept_rate_per_order_min</th>\n",
       "      <th>kept_rate_per_order_stddev</th>\n",
       "      <th>num_orders</th>\n",
       "      <th>size_feedback_rate_per_item</th>\n",
       "      <th>style_feedback_rate_per_item</th>\n",
       "    </tr>\n",
       "  </thead>\n",
       "  <tbody>\n",
       "    <tr>\n",
       "      <th>6</th>\n",
       "      <td>0.000000</td>\n",
       "      <td>customer</td>\n",
       "      <td>163244534</td>\n",
       "      <td>feat2_customerOrderAgg</td>\n",
       "      <td>164669317</td>\n",
       "      <td>2014-08-19 16:00:10.715</td>\n",
       "      <td>163244534</td>\n",
       "      <td>2014-08-19T16:00:10.715</td>\n",
       "      <td>0.708333</td>\n",
       "      <td>0.916667</td>\n",
       "      <td>...</td>\n",
       "      <td>0.396012</td>\n",
       "      <td>0.0</td>\n",
       "      <td>0.176370</td>\n",
       "      <td>0.291667</td>\n",
       "      <td>0.083333</td>\n",
       "      <td>0.083333</td>\n",
       "      <td>0.000000</td>\n",
       "      <td>1</td>\n",
       "      <td>0.170186</td>\n",
       "      <td>0.147214</td>\n",
       "    </tr>\n",
       "    <tr>\n",
       "      <th>16</th>\n",
       "      <td>0.000000</td>\n",
       "      <td>customer</td>\n",
       "      <td>137806105</td>\n",
       "      <td>feat2_customerOrderAgg</td>\n",
       "      <td>203875154</td>\n",
       "      <td>2014-07-09 13:00:04.728</td>\n",
       "      <td>137806105</td>\n",
       "      <td>2014-07-09T13:00:04.728</td>\n",
       "      <td>0.325000</td>\n",
       "      <td>0.150000</td>\n",
       "      <td>...</td>\n",
       "      <td>0.170331</td>\n",
       "      <td>0.0</td>\n",
       "      <td>0.121059</td>\n",
       "      <td>0.272727</td>\n",
       "      <td>0.045455</td>\n",
       "      <td>0.045455</td>\n",
       "      <td>0.000000</td>\n",
       "      <td>1</td>\n",
       "      <td>0.327097</td>\n",
       "      <td>0.456379</td>\n",
       "    </tr>\n",
       "    <tr>\n",
       "      <th>20</th>\n",
       "      <td>0.000000</td>\n",
       "      <td>customer</td>\n",
       "      <td>167918916</td>\n",
       "      <td>feat2_customerOrderAgg</td>\n",
       "      <td>214358328</td>\n",
       "      <td>2014-11-05 00:00:00.000</td>\n",
       "      <td>167918916</td>\n",
       "      <td>2014-11-05T00:00:00</td>\n",
       "      <td>0.500000</td>\n",
       "      <td>0.500000</td>\n",
       "      <td>...</td>\n",
       "      <td>0.599464</td>\n",
       "      <td>0.0</td>\n",
       "      <td>0.126723</td>\n",
       "      <td>0.275000</td>\n",
       "      <td>0.050000</td>\n",
       "      <td>0.050000</td>\n",
       "      <td>0.000000</td>\n",
       "      <td>1</td>\n",
       "      <td>0.349195</td>\n",
       "      <td>0.193768</td>\n",
       "    </tr>\n",
       "    <tr>\n",
       "      <th>23</th>\n",
       "      <td>0.000000</td>\n",
       "      <td>customer</td>\n",
       "      <td>18063364</td>\n",
       "      <td>feat2_customerOrderAgg</td>\n",
       "      <td>208973835</td>\n",
       "      <td>2013-10-08 11:00:04.134</td>\n",
       "      <td>18063364</td>\n",
       "      <td>2013-10-08T11:00:04.134</td>\n",
       "      <td>0.375000</td>\n",
       "      <td>0.500000</td>\n",
       "      <td>...</td>\n",
       "      <td>0.682328</td>\n",
       "      <td>0.0</td>\n",
       "      <td>0.205614</td>\n",
       "      <td>0.291667</td>\n",
       "      <td>0.250000</td>\n",
       "      <td>0.125000</td>\n",
       "      <td>0.088388</td>\n",
       "      <td>2</td>\n",
       "      <td>0.236592</td>\n",
       "      <td>0.538379</td>\n",
       "    </tr>\n",
       "    <tr>\n",
       "      <th>25</th>\n",
       "      <td>0.000000</td>\n",
       "      <td>customer</td>\n",
       "      <td>153156637</td>\n",
       "      <td>feat2_customerOrderAgg</td>\n",
       "      <td>209061017</td>\n",
       "      <td>2014-11-06 21:40:09.172</td>\n",
       "      <td>153156637</td>\n",
       "      <td>2014-11-06T21:40:09.172</td>\n",
       "      <td>0.500000</td>\n",
       "      <td>0.500000</td>\n",
       "      <td>...</td>\n",
       "      <td>0.303959</td>\n",
       "      <td>0.0</td>\n",
       "      <td>0.093429</td>\n",
       "      <td>0.208333</td>\n",
       "      <td>0.083333</td>\n",
       "      <td>0.041667</td>\n",
       "      <td>0.029463</td>\n",
       "      <td>2</td>\n",
       "      <td>0.312238</td>\n",
       "      <td>0.306007</td>\n",
       "    </tr>\n",
       "    <tr>\n",
       "      <th>39</th>\n",
       "      <td>48.967563</td>\n",
       "      <td>customer</td>\n",
       "      <td>209438657</td>\n",
       "      <td>feat2_customerOrderAgg</td>\n",
       "      <td>211179907</td>\n",
       "      <td>2014-11-06 15:40:04.551</td>\n",
       "      <td>209438657</td>\n",
       "      <td>2014-11-06T15:40:04.551</td>\n",
       "      <td>0.270833</td>\n",
       "      <td>0.041667</td>\n",
       "      <td>...</td>\n",
       "      <td>0.461619</td>\n",
       "      <td>0.0</td>\n",
       "      <td>0.114732</td>\n",
       "      <td>0.270833</td>\n",
       "      <td>0.041667</td>\n",
       "      <td>0.041667</td>\n",
       "      <td>0.000000</td>\n",
       "      <td>1</td>\n",
       "      <td>0.283619</td>\n",
       "      <td>0.594946</td>\n",
       "    </tr>\n",
       "    <tr>\n",
       "      <th>42</th>\n",
       "      <td>0.000000</td>\n",
       "      <td>customer</td>\n",
       "      <td>91631681</td>\n",
       "      <td>feat2_customerOrderAgg</td>\n",
       "      <td>211725689</td>\n",
       "      <td>2014-03-26 12:25:07.899</td>\n",
       "      <td>91631681</td>\n",
       "      <td>2014-03-26T12:25:07.899</td>\n",
       "      <td>0.500000</td>\n",
       "      <td>0.500000</td>\n",
       "      <td>...</td>\n",
       "      <td>0.322599</td>\n",
       "      <td>0.0</td>\n",
       "      <td>NaN</td>\n",
       "      <td>0.272727</td>\n",
       "      <td>0.045455</td>\n",
       "      <td>0.045455</td>\n",
       "      <td>0.000000</td>\n",
       "      <td>1</td>\n",
       "      <td>NaN</td>\n",
       "      <td>NaN</td>\n",
       "    </tr>\n",
       "    <tr>\n",
       "      <th>44</th>\n",
       "      <td>0.000000</td>\n",
       "      <td>customer</td>\n",
       "      <td>67369965</td>\n",
       "      <td>feat2_customerOrderAgg</td>\n",
       "      <td>211858088</td>\n",
       "      <td>2014-04-09 10:26:54.966</td>\n",
       "      <td>67369965</td>\n",
       "      <td>2014-04-09T10:26:54.966</td>\n",
       "      <td>0.409091</td>\n",
       "      <td>0.500000</td>\n",
       "      <td>...</td>\n",
       "      <td>0.161404</td>\n",
       "      <td>0.0</td>\n",
       "      <td>0.112731</td>\n",
       "      <td>0.208333</td>\n",
       "      <td>0.083333</td>\n",
       "      <td>0.041667</td>\n",
       "      <td>0.029463</td>\n",
       "      <td>2</td>\n",
       "      <td>0.587261</td>\n",
       "      <td>0.157170</td>\n",
       "    </tr>\n",
       "    <tr>\n",
       "      <th>45</th>\n",
       "      <td>0.000000</td>\n",
       "      <td>customer</td>\n",
       "      <td>129124608</td>\n",
       "      <td>feat2_customerOrderAgg</td>\n",
       "      <td>212289459</td>\n",
       "      <td>2014-06-19 15:40:04.662</td>\n",
       "      <td>129124608</td>\n",
       "      <td>2014-06-19T15:40:04.662</td>\n",
       "      <td>0.525000</td>\n",
       "      <td>0.550000</td>\n",
       "      <td>...</td>\n",
       "      <td>0.391569</td>\n",
       "      <td>0.0</td>\n",
       "      <td>0.115541</td>\n",
       "      <td>0.272727</td>\n",
       "      <td>0.045455</td>\n",
       "      <td>0.045455</td>\n",
       "      <td>0.000000</td>\n",
       "      <td>1</td>\n",
       "      <td>0.110631</td>\n",
       "      <td>0.311014</td>\n",
       "    </tr>\n",
       "    <tr>\n",
       "      <th>49</th>\n",
       "      <td>0.000000</td>\n",
       "      <td>customer</td>\n",
       "      <td>206252785</td>\n",
       "      <td>feat2_customerOrderAgg</td>\n",
       "      <td>213168574</td>\n",
       "      <td>2014-10-31 08:00:01.153</td>\n",
       "      <td>206252785</td>\n",
       "      <td>2014-10-31T08:00:01.153</td>\n",
       "      <td>0.395833</td>\n",
       "      <td>0.291667</td>\n",
       "      <td>...</td>\n",
       "      <td>0.241694</td>\n",
       "      <td>0.0</td>\n",
       "      <td>0.100451</td>\n",
       "      <td>0.266667</td>\n",
       "      <td>0.033333</td>\n",
       "      <td>0.033333</td>\n",
       "      <td>0.000000</td>\n",
       "      <td>1</td>\n",
       "      <td>0.346413</td>\n",
       "      <td>0.345178</td>\n",
       "    </tr>\n",
       "    <tr>\n",
       "      <th>62</th>\n",
       "      <td>20.399748</td>\n",
       "      <td>customer</td>\n",
       "      <td>209705597</td>\n",
       "      <td>feat2_customerOrderAgg</td>\n",
       "      <td>214825530</td>\n",
       "      <td>2014-11-10 18:25:04.993</td>\n",
       "      <td>209705597</td>\n",
       "      <td>2014-11-10T18:25:04.993</td>\n",
       "      <td>0.375000</td>\n",
       "      <td>0.250000</td>\n",
       "      <td>...</td>\n",
       "      <td>0.249671</td>\n",
       "      <td>0.0</td>\n",
       "      <td>0.104524</td>\n",
       "      <td>0.267857</td>\n",
       "      <td>0.035714</td>\n",
       "      <td>0.035714</td>\n",
       "      <td>0.000000</td>\n",
       "      <td>1</td>\n",
       "      <td>0.538405</td>\n",
       "      <td>0.179846</td>\n",
       "    </tr>\n",
       "  </tbody>\n",
       "</table>\n",
       "<p>11 rows × 27 columns</p>\n",
       "</div>"
      ],
      "text/plain": [
       "          cm1    domain  domain_id                    name   order_id  \\\n",
       "6    0.000000  customer  163244534  feat2_customerOrderAgg  164669317   \n",
       "16   0.000000  customer  137806105  feat2_customerOrderAgg  203875154   \n",
       "20   0.000000  customer  167918916  feat2_customerOrderAgg  214358328   \n",
       "23   0.000000  customer   18063364  feat2_customerOrderAgg  208973835   \n",
       "25   0.000000  customer  153156637  feat2_customerOrderAgg  209061017   \n",
       "39  48.967563  customer  209438657  feat2_customerOrderAgg  211179907   \n",
       "42   0.000000  customer   91631681  feat2_customerOrderAgg  211725689   \n",
       "44   0.000000  customer   67369965  feat2_customerOrderAgg  211858088   \n",
       "45   0.000000  customer  129124608  feat2_customerOrderAgg  212289459   \n",
       "49   0.000000  customer  206252785  feat2_customerOrderAgg  213168574   \n",
       "62  20.399748  customer  209705597  feat2_customerOrderAgg  214825530   \n",
       "\n",
       "                 timestamp  customer_id            date_observed  \\\n",
       "6  2014-08-19 16:00:10.715    163244534  2014-08-19T16:00:10.715   \n",
       "16 2014-07-09 13:00:04.728    137806105  2014-07-09T13:00:04.728   \n",
       "20 2014-11-05 00:00:00.000    167918916      2014-11-05T00:00:00   \n",
       "23 2013-10-08 11:00:04.134     18063364  2013-10-08T11:00:04.134   \n",
       "25 2014-11-06 21:40:09.172    153156637  2014-11-06T21:40:09.172   \n",
       "39 2014-11-06 15:40:04.551    209438657  2014-11-06T15:40:04.551   \n",
       "42 2014-03-26 12:25:07.899     91631681  2014-03-26T12:25:07.899   \n",
       "44 2014-04-09 10:26:54.966     67369965  2014-04-09T10:26:54.966   \n",
       "45 2014-06-19 15:40:04.662    129124608  2014-06-19T15:40:04.662   \n",
       "49 2014-10-31 08:00:01.153    206252785  2014-10-31T08:00:01.153   \n",
       "62 2014-11-10 18:25:04.993    209705597  2014-11-10T18:25:04.993   \n",
       "\n",
       "    feedback_not_needed_rate_bavg  feedback_not_needed_rate_max  \\\n",
       "6                        0.708333                      0.916667   \n",
       "16                       0.325000                      0.150000   \n",
       "20                       0.500000                      0.500000   \n",
       "23                       0.375000                      0.500000   \n",
       "25                       0.500000                      0.500000   \n",
       "39                       0.270833                      0.041667   \n",
       "42                       0.500000                      0.500000   \n",
       "44                       0.409091                      0.500000   \n",
       "45                       0.525000                      0.550000   \n",
       "49                       0.395833                      0.291667   \n",
       "62                       0.375000                      0.250000   \n",
       "\n",
       "                ...               item_sent_item_priceness_avg  \\\n",
       "6               ...                                   0.396012   \n",
       "16              ...                                   0.170331   \n",
       "20              ...                                   0.599464   \n",
       "23              ...                                   0.682328   \n",
       "25              ...                                   0.303959   \n",
       "39              ...                                   0.461619   \n",
       "42              ...                                   0.322599   \n",
       "44              ...                                   0.161404   \n",
       "45              ...                                   0.391569   \n",
       "49              ...                                   0.241694   \n",
       "62              ...                                   0.249671   \n",
       "\n",
       "    kept_rate_per_item  kept_rate_per_item_b10  kept_rate_per_order_bavg  \\\n",
       "6                  0.0                0.176370                  0.291667   \n",
       "16                 0.0                0.121059                  0.272727   \n",
       "20                 0.0                0.126723                  0.275000   \n",
       "23                 0.0                0.205614                  0.291667   \n",
       "25                 0.0                0.093429                  0.208333   \n",
       "39                 0.0                0.114732                  0.270833   \n",
       "42                 0.0                     NaN                  0.272727   \n",
       "44                 0.0                0.112731                  0.208333   \n",
       "45                 0.0                0.115541                  0.272727   \n",
       "49                 0.0                0.100451                  0.266667   \n",
       "62                 0.0                0.104524                  0.267857   \n",
       "\n",
       "    kept_rate_per_order_max  kept_rate_per_order_min  \\\n",
       "6                  0.083333                 0.083333   \n",
       "16                 0.045455                 0.045455   \n",
       "20                 0.050000                 0.050000   \n",
       "23                 0.250000                 0.125000   \n",
       "25                 0.083333                 0.041667   \n",
       "39                 0.041667                 0.041667   \n",
       "42                 0.045455                 0.045455   \n",
       "44                 0.083333                 0.041667   \n",
       "45                 0.045455                 0.045455   \n",
       "49                 0.033333                 0.033333   \n",
       "62                 0.035714                 0.035714   \n",
       "\n",
       "    kept_rate_per_order_stddev  num_orders  size_feedback_rate_per_item  \\\n",
       "6                     0.000000           1                     0.170186   \n",
       "16                    0.000000           1                     0.327097   \n",
       "20                    0.000000           1                     0.349195   \n",
       "23                    0.088388           2                     0.236592   \n",
       "25                    0.029463           2                     0.312238   \n",
       "39                    0.000000           1                     0.283619   \n",
       "42                    0.000000           1                          NaN   \n",
       "44                    0.029463           2                     0.587261   \n",
       "45                    0.000000           1                     0.110631   \n",
       "49                    0.000000           1                     0.346413   \n",
       "62                    0.000000           1                     0.538405   \n",
       "\n",
       "    style_feedback_rate_per_item  \n",
       "6                       0.147214  \n",
       "16                      0.456379  \n",
       "20                      0.193768  \n",
       "23                      0.538379  \n",
       "25                      0.306007  \n",
       "39                      0.594946  \n",
       "42                           NaN  \n",
       "44                      0.157170  \n",
       "45                      0.311014  \n",
       "49                      0.345178  \n",
       "62                      0.179846  \n",
       "\n",
       "[11 rows x 27 columns]"
      ]
     },
     "execution_count": 31,
     "metadata": {},
     "output_type": "execute_result"
    }
   ],
   "source": [
    "data[data['item_kept_brand_priceness_avg'].isna()]"
   ]
  },
  {
   "cell_type": "markdown",
   "metadata": {},
   "source": [
    "### Plot the data"
   ]
  },
  {
   "cell_type": "code",
   "execution_count": 41,
   "metadata": {},
   "outputs": [
    {
     "data": {
      "text/plain": [
       "<matplotlib.axes._subplots.AxesSubplot at 0xbcbc830>"
      ]
     },
     "execution_count": 41,
     "metadata": {},
     "output_type": "execute_result"
    },
    {
     "data": {
      "image/png": "[encoded data removed]",
      "text/plain": [
       "<matplotlib.figure.Figure at 0xab0b450>"
      ]
     },
     "metadata": {},
     "output_type": "display_data"
    }
   ],
   "source": [
    "data['cm1'].plot.hist(bins = 20)"
   ]
  },
  {
   "cell_type": "code",
   "execution_count": 44,
   "metadata": {},
   "outputs": [
    {
     "data": {
      "text/plain": [
       "<matplotlib.axes._subplots.AxesSubplot at 0xb7a3850>"
      ]
     },
     "execution_count": 44,
     "metadata": {},
     "output_type": "execute_result"
    },
    {
     "data": {
      "image/png": "[encoded data removed]",
      "text/plain": [
       "<matplotlib.figure.Figure at 0xb7faa10>"
      ]
     },
     "metadata": {},
     "output_type": "display_data"
    }
   ],
   "source": [
    "np.log(data['cm1'][data['cm1'] > 0.1]).plot.hist(bins = 20)"
   ]
  },
  {
   "cell_type": "code",
   "execution_count": null,
   "metadata": {},
   "outputs": [],
   "source": []
  }
 ],
 "metadata": {
  "kernelspec": {
   "display_name": "Python 3",
   "language": "python",
   "name": "python3"
  },
  "language_info": {
   "codemirror_mode": {
    "name": "ipython",
    "version": 3
   },
   "file_extension": ".py",
   "mimetype": "text/x-python",
   "name": "python",
   "nbconvert_exporter": "python",
   "pygments_lexer": "ipython3",
   "version": "3.6.3"
  }
 },
 "nbformat": 4,
 "nbformat_minor": 2
}
