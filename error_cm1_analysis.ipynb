{
 "cells": [
  {
   "cell_type": "markdown",
   "metadata": {},
   "source": [
    "### Import the required packages"
   ]
  },
  {
   "cell_type": "code",
   "execution_count": 4,
   "metadata": {},
   "outputs": [],
   "source": [
    "import psycopg2\n",
    "import pandas as pd\n",
    "import numpy as np\n",
    "import matplotlib as plt\n",
    "import json\n",
    "\n",
    "%matplotlib inline"
   ]
  },
  {
   "cell_type": "markdown",
   "metadata": {},
   "source": [
    "### Create the connection to the database"
   ]
  },
  {
   "cell_type": "code",
   "execution_count": 5,
   "metadata": {},
   "outputs": [
    {
     "name": "stdout",
     "output_type": "stream",
     "text": [
      "Connecting to database\n",
      "host=production-bi-data-slave-1.psql.db.outfittery.de dbname=dwh user=ml password=<xBqWW1X~6dfwEh\n",
      "Connected!\n",
      "\n"
     ]
    }
   ],
   "source": [
    "#Define the connection variables\n",
    "host = 'production-bi-data-slave-1.psql.db.outfittery.de'\n",
    "dbname = 'dwh'\n",
    "user = 'ml'\n",
    "pw = '<xBqWW1X~6dfwEh'\n",
    "\n",
    "\n",
    "# Create the full connection string\n",
    "conn_string = 'host=' + host + ' dbname=' + dbname + ' user=' + user + ' password=' + pw\n",
    "\n",
    "# Print the connection string\n",
    "print('Connecting to database\\n{0}'.format(conn_string))\n",
    "\n",
    "# Get the connection object\n",
    "conn = psycopg2.connect(conn_string)\n",
    "\n",
    "# Get the cursor object that we can run queries on\n",
    "cursor = conn.cursor()\n",
    "print('Connected!\\n')"
   ]
  },
  {
   "cell_type": "markdown",
   "metadata": {},
   "source": [
    "### Run the query to get the order & cm1 data in a pandas series"
   ]
  },
  {
   "cell_type": "code",
   "execution_count": 7,
   "metadata": {},
   "outputs": [
    {
     "name": "stdout",
     "output_type": "stream",
     "text": [
      "Executed Query\n",
      "Retrieved Records\n"
     ]
    }
   ],
   "source": [
    "colnames = ['order_id', 'order_id_key', 'date_amount_paid', 'cm1', 'cm2', 'cm3', 'cm1_ratio', 'cm1_before_canc', 'cm1_before_canc_after_returns', 'cm1_before_canc_after_exp_returns']\n",
    "\n",
    "my_query = \"select \" + ','.join(colnames) + \" from ml.ecdc_alternative_cm_targets limit 10000\"\n",
    "\n",
    "# execute our Query\n",
    "cursor.execute(my_query)\n",
    "print('Executed Query')\n",
    "\n",
    "# retrieve the records from the database\n",
    "\n",
    "records = pd.DataFrame(cursor.fetchall(), columns = colnames)\n",
    "records['cm1'] = records['cm1'].astype(float)\n",
    "print('Retrieved Records')"
   ]
  },
  {
   "cell_type": "code",
   "execution_count": 8,
   "metadata": {},
   "outputs": [
    {
     "name": "stdout",
     "output_type": "stream",
     "text": [
      "<class 'pandas.core.frame.DataFrame'>\n",
      "RangeIndex: 10000 entries, 0 to 9999\n",
      "Data columns (total 10 columns):\n",
      "order_id                             10000 non-null int64\n",
      "order_id_key                         10000 non-null int64\n",
      "date_amount_paid                     6684 non-null datetime64[ns]\n",
      "cm1                                  10000 non-null float64\n",
      "cm2                                  10000 non-null object\n",
      "cm3                                  10000 non-null object\n",
      "cm1_ratio                            10000 non-null object\n",
      "cm1_before_canc                      10000 non-null object\n",
      "cm1_before_canc_after_returns        10000 non-null object\n",
      "cm1_before_canc_after_exp_returns    10000 non-null object\n",
      "dtypes: datetime64[ns](1), float64(1), int64(2), object(6)\n",
      "memory usage: 546.9+ KB\n"
     ]
    }
   ],
   "source": [
    "records.info()"
   ]
  },
  {
   "cell_type": "markdown",
   "metadata": {},
   "source": [
    "### Plot the different metrics"
   ]
  },
  {
   "cell_type": "code",
   "execution_count": 9,
   "metadata": {},
   "outputs": [
    {
     "data": {
      "text/plain": [
       "<matplotlib.axes._subplots.AxesSubplot at 0x8849a30>"
      ]
     },
     "execution_count": 9,
     "metadata": {},
     "output_type": "execute_result"
    },
    {
     "data": {
      "image/png": "[encoded data removed]",
      "text/plain": [
       "<matplotlib.figure.Figure at 0x2fdb2d0>"
      ]
     },
     "metadata": {},
     "output_type": "display_data"
    }
   ],
   "source": [
    "records['cm1'].plot.hist(bins = 20)"
   ]
  },
  {
   "cell_type": "code",
   "execution_count": 14,
   "metadata": {},
   "outputs": [
    {
     "data": {
      "text/plain": [
       "<matplotlib.axes._subplots.AxesSubplot at 0x8765530>"
      ]
     },
     "execution_count": 14,
     "metadata": {},
     "output_type": "execute_result"
    },
    {
     "data": {
      "image/png": "[encoded data removed]",
      "text/plain": [
       "<matplotlib.figure.Figure at 0x400a050>"
      ]
     },
     "metadata": {},
     "output_type": "display_data"
    }
   ],
   "source": [
    "records['cm1_before_canc'].astype('float32').plot.hist(bins = 20)"
   ]
  },
  {
   "cell_type": "code",
   "execution_count": 19,
   "metadata": {},
   "outputs": [
    {
     "data": {
      "text/plain": [
       "<matplotlib.axes._subplots.AxesSubplot at 0x6e3c890>"
      ]
     },
     "execution_count": 19,
     "metadata": {},
     "output_type": "execute_result"
    },
    {
     "data": {
      "image/png": "[encoded data removed]",
      "text/plain": [
       "<matplotlib.figure.Figure at 0x6f81570>"
      ]
     },
     "metadata": {},
     "output_type": "display_data"
    }
   ],
   "source": [
    "records['cm1_before_canc_after_returns'].astype('float32').plot.hist(bins = 20)"
   ]
  },
  {
   "cell_type": "code",
   "execution_count": 23,
   "metadata": {},
   "outputs": [
    {
     "name": "stderr",
     "output_type": "stream",
     "text": [
      "c:\\users\\conor\\appdata\\local\\programs\\python\\python36-32\\lib\\site-packages\\ipykernel_launcher.py:1: RuntimeWarning: invalid value encountered in log\n",
      "  \"\"\"Entry point for launching an IPython kernel.\n"
     ]
    },
    {
     "data": {
      "text/plain": [
       "<matplotlib.axes._subplots.AxesSubplot at 0x6f0eaf0>"
      ]
     },
     "execution_count": 23,
     "metadata": {},
     "output_type": "execute_result"
    },
    {
     "data": {
      "image/png": "[encoded data removed]",
      "text/plain": [
       "<matplotlib.figure.Figure at 0x6f187d0>"
      ]
     },
     "metadata": {},
     "output_type": "display_data"
    }
   ],
   "source": [
    "np.log(records['cm1_before_canc_after_returns'].astype('float32') + 1).plot.hist(bins = 20)"
   ]
  },
  {
   "cell_type": "code",
   "execution_count": 21,
   "metadata": {},
   "outputs": [
    {
     "data": {
      "text/plain": [
       "<matplotlib.axes._subplots.AxesSubplot at 0x6fe6d70>"
      ]
     },
     "execution_count": 21,
     "metadata": {},
     "output_type": "execute_result"
    },
    {
     "data": {
      "image/png": "[encoded data removed]",
      "text/plain": [
       "<matplotlib.figure.Figure at 0x6ffe170>"
      ]
     },
     "metadata": {},
     "output_type": "display_data"
    }
   ],
   "source": [
    "records['cm1_before_canc_after_exp_returns'].astype('float32').plot.hist(bins = 20)"
   ]
  },
  {
   "cell_type": "markdown",
   "metadata": {},
   "source": [
    "### Create the error function"
   ]
  },
  {
   "cell_type": "code",
   "execution_count": 157,
   "metadata": {},
   "outputs": [],
   "source": [
    "from sklearn.metrics.scorer import make_scorer\n",
    "from scipy.stats import kendalltau\n",
    "\n",
    "def kendall_rank_score(y, y_pred, X):\n",
    "    '''\n",
    "    Returns the Kendall rank coefficient for our data sorted by cm1 vs sorted by y_pred.\n",
    "    See this link for more details:\n",
    "    https://en.wikipedia.org/wiki/Kendall_rank_correlation_coefficient\n",
    "    \n",
    "    @Paramaters:\n",
    "    y: This is the 'ground truth' for the y values\n",
    "        It's not used here as we are scoring based on rank rather than by comparing predicted values with their real ones\n",
    "        It's required as a paramater by the make_scorer function from sklearn\n",
    "        \n",
    "    y_pred: our predicted y values\n",
    "    \n",
    "    X: The X values that were used to predict the y vector\n",
    "    \n",
    "    '''\n",
    "    \n",
    "    return kendalltau(X['cm1'], y_pred)[0]\n",
    "\n",
    "\n",
    "def rank_weighted_mse(y, y_pred, X, cm_col = 'cm1'):\n",
    "    '''\n",
    "    Returns the Rank weighted MSE for our data sorted by cm1 vs sorted by y_pred.\n",
    "    This is the MSE of CM1 weighted by (N-Rank)\n",
    "    \n",
    "    @Paramaters:\n",
    "    y: This is the 'ground truth' for the y values\n",
    "        It's not used here as we are scoring based on rank rather than by comparing predicted values with their real ones\n",
    "        It's required as a paramater by the make_scorer function from sklearn\n",
    "        \n",
    "    y_pred: our predicted y values\n",
    "    \n",
    "    X: The X values that were used to predict the y vector\n",
    "    \n",
    "    '''\n",
    "\n",
    "    \n",
    "    base_cm1 = X[cm_col][np.argsort(X[cm_col])].reset_index(drop = True).astype('float')\n",
    "    custom_rank_cm1 = X[cm_col][np.argsort(y_pred)].reset_index(drop = True).astype('float')\n",
    "    \n",
    "    \n",
    "    numerator = 0.\n",
    "    N = len(base_cm1)\n",
    "    i = 0\n",
    "    \n",
    "    for base, custom in zip(base_cm1, custom_rank_cm1):\n",
    "        i+=1\n",
    "        numerator += (N-i)  * (base - custom) ** 2\n",
    "        \n",
    "    denominator = (N/2) * (N+1)\n",
    "    \n",
    "    mse = np.sqrt(numerator/denominator)\n",
    "        \n",
    "    \n",
    "    return mse\n",
    "\n",
    "\n",
    "#kendall_rank_scorer = make_scorer(kendall_rank_error, greater_is_better=True, X = X_test)\n",
    "    "
   ]
  },
  {
   "cell_type": "markdown",
   "metadata": {},
   "source": [
    "* Look at the base errors for the various different cm1 metrics"
   ]
  },
  {
   "cell_type": "code",
   "execution_count": 151,
   "metadata": {},
   "outputs": [
    {
     "name": "stdout",
     "output_type": "stream",
     "text": [
      "Pearson Correlation between cm1 & cm2: 0.986198902130127\n",
      "Pearson Correlation between cm1 & cm3: 0.8264316320419312\n",
      "Pearson Correlation between cm1 & cm1_ratio: 0.7697564363479614\n",
      "Pearson Correlation between cm1 & cm1_before_canc: 0.384600430727005\n",
      "Pearson Correlation between cm1 & cm1_before_canc_after_returns: 0.9055898785591125\n",
      "Pearson Correlation between cm1 & cm1_before_canc_after_exp_returns: 0.9055898785591125\n",
      "\n",
      "\n",
      "Spearman Correlation between cm1 & cm2: 0.9618826322014038\n",
      "Spearman Correlation between cm1 & cm3: 0.7361639867599535\n",
      "Spearman Correlation between cm1 & cm1_ratio: 0.9248901647510992\n",
      "Spearman Correlation between cm1 & cm1_before_canc: 0.2521707467594222\n",
      "Spearman Correlation between cm1 & cm1_before_canc_after_returns: 0.9247391748803571\n",
      "Spearman Correlation between cm1 & cm1_before_canc_after_exp_returns: 0.9247391748803571\n",
      "\n",
      "\n",
      "Kendall Correlation between cm1 & cm2: 0.8542953136700554\n",
      "Kendall Correlation between cm1 & cm3: 0.571976260126073\n",
      "Kendall Correlation between cm1 & cm1_ratio: 0.8068230664809627\n",
      "Kendall Correlation between cm1 & cm1_before_canc: 0.17949067846337038\n",
      "Kendall Correlation between cm1 & cm1_before_canc_after_returns: 0.8570973852899868\n",
      "Kendall Correlation between cm1 & cm1_before_canc_after_exp_returns: 0.8570973852899868\n",
      "\n",
      "\n",
      "Rank weighted MSE between cm1 & cm2: 11.079344163495684\n",
      "Rank weighted MSE between cm1 & cm3: 42.813033636694435\n",
      "Rank weighted MSE between cm1 & cm1_ratio: 24.087163769058012\n",
      "Rank weighted MSE between cm1 & cm1_before_canc: 73.88759339875882\n",
      "Rank weighted MSE between cm1 & cm1_before_canc_after_returns: 16.361533178032452\n",
      "Rank weighted MSE between cm1 & cm1_before_canc_after_exp_returns: 16.361533178032452\n"
     ]
    }
   ],
   "source": [
    "from scipy.stats.stats import pearsonr, spearmanr, kendalltau\n",
    "corrcols = ['cm2', 'cm3', 'cm1_ratio', 'cm1_before_canc', 'cm1_before_canc_after_returns', 'cm1_before_canc_after_exp_returns']\n",
    "\n",
    "for col in corrcols:\n",
    "    print('Pearson Correlation between cm1 & {0}: {1}'.format(col,pearsonr(records['cm1'].astype('float32'), records[col].astype('float32'))[0]))\n",
    "\n",
    "print('\\n')\n",
    "for col in corrcols:\n",
    "    print('Spearman Correlation between cm1 & {0}: {1}'.format(col,spearmanr(records['cm1'].astype('float32'), records[col].astype('float32'))[0]))\n",
    "\n",
    "print('\\n')\n",
    "for col in corrcols:\n",
    "    print('Kendall Correlation between cm1 & {0}: {1}'.format(col,kendalltau(records['cm1'].astype('float32'), records[col].astype('float32'))[0]))\n",
    "\n",
    "print('\\n')\n",
    "for col in corrcols:\n",
    "    print('Rank weighted MSE between cm1 & {0}: {1}'.format(col,rank_weighted_mse(None, records[col].astype('float32'), records)))\n",
    "\n",
    "#np.corrcoef(records.drop(['date_amount_paid'], inplace = False, axis = 1).head(10000).astype('float32'))"
   ]
  },
  {
   "cell_type": "code",
   "execution_count": 158,
   "metadata": {},
   "outputs": [
    {
     "name": "stdout",
     "output_type": "stream",
     "text": [
      "Pearson Correlation between cm2 & cm1: 0.986198902130127\n",
      "Pearson Correlation between cm2 & cm3: 0.8617855310440063\n",
      "Pearson Correlation between cm2 & cm1_ratio: 0.7838545441627502\n",
      "Pearson Correlation between cm2 & cm1_before_canc: 0.3158695101737976\n",
      "Pearson Correlation between cm2 & cm1_before_canc_after_returns: 0.885829746723175\n",
      "Pearson Correlation between cm2 & cm1_before_canc_after_exp_returns: 0.885829746723175\n",
      "\n",
      "\n",
      "Spearman Correlation between cm2 & cm1: 0.9618826322014039\n",
      "Spearman Correlation between cm2 & cm3: 0.8047842280705798\n",
      "Spearman Correlation between cm2 & cm1_ratio: 0.9140860387855723\n",
      "Spearman Correlation between cm2 & cm1_before_canc: 0.1293020251545005\n",
      "Spearman Correlation between cm2 & cm1_before_canc_after_returns: 0.8882186579017652\n",
      "Spearman Correlation between cm2 & cm1_before_canc_after_exp_returns: 0.8882186579017652\n",
      "\n",
      "\n",
      "Kendall Correlation between cm2 & cm1: 0.8542953136700554\n",
      "Kendall Correlation between cm2 & cm3: 0.6501364675486065\n",
      "Kendall Correlation between cm2 & cm1_ratio: 0.7580443608657587\n",
      "Kendall Correlation between cm2 & cm1_before_canc: 0.08693731953992144\n",
      "Kendall Correlation between cm2 & cm1_before_canc_after_returns: 0.7555774442741274\n",
      "Kendall Correlation between cm2 & cm1_before_canc_after_exp_returns: 0.7555774442741274\n",
      "\n",
      "\n",
      "Rank weighted MSE between cm2 & cm1: 14.635806243780586\n",
      "Rank weighted MSE between cm2 & cm3: 33.68978262879747\n",
      "Rank weighted MSE between cm2 & cm1_ratio: 23.94348751284323\n",
      "Rank weighted MSE between cm2 & cm1_before_canc: 69.88976605480853\n",
      "Rank weighted MSE between cm2 & cm1_before_canc_after_returns: 21.014657118515487\n",
      "Rank weighted MSE between cm2 & cm1_before_canc_after_exp_returns: 21.014657118515487\n"
     ]
    }
   ],
   "source": [
    "from scipy.stats.stats import pearsonr, spearmanr, kendalltau\n",
    "corrcols = ['cm1', 'cm3', 'cm1_ratio', 'cm1_before_canc', 'cm1_before_canc_after_returns', 'cm1_before_canc_after_exp_returns']\n",
    "\n",
    "for col in corrcols:\n",
    "    print('Pearson Correlation between cm2 & {0}: {1}'.format(col,pearsonr(records['cm2'].astype('float32'), records[col].astype('float32'))[0]))\n",
    "\n",
    "print('\\n')\n",
    "for col in corrcols:\n",
    "    print('Spearman Correlation between cm2 & {0}: {1}'.format(col,spearmanr(records['cm2'].astype('float32'), records[col].astype('float32'))[0]))\n",
    "\n",
    "print('\\n')\n",
    "for col in corrcols:\n",
    "    print('Kendall Correlation between cm2 & {0}: {1}'.format(col,kendalltau(records['cm2'].astype('float32'), records[col].astype('float32'))[0]))\n",
    "\n",
    "print('\\n')\n",
    "for col in corrcols:\n",
    "    print('Rank weighted MSE between cm2 & {0}: {1}'.format(col,rank_weighted_mse(None, records[col].astype('float32'), records, 'cm2')))\n",
    "\n",
    "#np.corrcoef(records.drop(['date_amount_paid'], inplace = False, axis = 1).head(10000).astype('float32'))"
   ]
  },
  {
   "cell_type": "code",
   "execution_count": 160,
   "metadata": {},
   "outputs": [
    {
     "name": "stdout",
     "output_type": "stream",
     "text": [
      "Pearson Correlation between cm3 & cm1: 0.8264316320419312\n",
      "Pearson Correlation between cm3 & cm2: 0.8617855310440063\n",
      "Pearson Correlation between cm3 & cm1_ratio: 0.7114126682281494\n",
      "Pearson Correlation between cm3 & cm1_before_canc: 0.13421662151813507\n",
      "Pearson Correlation between cm3 & cm1_before_canc_after_returns: 0.7363534569740295\n",
      "Pearson Correlation between cm3 & cm1_before_canc_after_exp_returns: 0.7363534569740295\n",
      "\n",
      "\n",
      "Spearman Correlation between cm3 & cm1: 0.7361639867599535\n",
      "Spearman Correlation between cm3 & cm2: 0.8047842280705797\n",
      "Spearman Correlation between cm3 & cm1_ratio: 0.7577808240611353\n",
      "Spearman Correlation between cm3 & cm1_before_canc: -0.04080584399528063\n",
      "Spearman Correlation between cm3 & cm1_before_canc_after_returns: 0.6754070016665089\n",
      "Spearman Correlation between cm3 & cm1_before_canc_after_exp_returns: 0.6754070016665089\n",
      "\n",
      "\n",
      "Kendall Correlation between cm3 & cm1: 0.571976260126073\n",
      "Kendall Correlation between cm3 & cm2: 0.6501364675486067\n",
      "Kendall Correlation between cm3 & cm1_ratio: 0.573649985173411\n",
      "Kendall Correlation between cm3 & cm1_before_canc: -0.03245068219476939\n",
      "Kendall Correlation between cm3 & cm1_before_canc_after_returns: 0.5143663380275317\n",
      "Kendall Correlation between cm3 & cm1_before_canc_after_exp_returns: 0.5143663380275317\n",
      "\n",
      "\n",
      "Rank weighted MSE between cm3 & cm1: 65.44468180997602\n",
      "Rank weighted MSE between cm3 & cm2: 54.518525808489926\n",
      "Rank weighted MSE between cm3 & cm1_ratio: 66.656829642079\n",
      "Rank weighted MSE between cm3 & cm1_before_canc: 109.55915304603259\n",
      "Rank weighted MSE between cm3 & cm1_before_canc_after_returns: 68.9497209034025\n",
      "Rank weighted MSE between cm3 & cm1_before_canc_after_exp_returns: 68.9497209034025\n"
     ]
    }
   ],
   "source": [
    "from scipy.stats.stats import pearsonr, spearmanr, kendalltau\n",
    "corrcols = ['cm1', 'cm2', 'cm1_ratio', 'cm1_before_canc', 'cm1_before_canc_after_returns', 'cm1_before_canc_after_exp_returns']\n",
    "\n",
    "for col in corrcols:\n",
    "    print('Pearson Correlation between cm3 & {0}: {1}'.format(col,pearsonr(records['cm3'].astype('float32'), records[col].astype('float32'))[0]))\n",
    "\n",
    "print('\\n')\n",
    "for col in corrcols:\n",
    "    print('Spearman Correlation between cm3 & {0}: {1}'.format(col,spearmanr(records['cm3'].astype('float32'), records[col].astype('float32'))[0]))\n",
    "\n",
    "print('\\n')\n",
    "for col in corrcols:\n",
    "    print('Kendall Correlation between cm3 & {0}: {1}'.format(col,kendalltau(records['cm3'].astype('float32'), records[col].astype('float32'))[0]))\n",
    "\n",
    "print('\\n')\n",
    "for col in corrcols:\n",
    "    print('Rank weighted MSE between cm3 & {0}: {1}'.format(col,rank_weighted_mse(None, records[col].astype('float32'), records, 'cm3')))\n",
    "\n",
    "#np.corrcoef(records.drop(['date_amount_paid'], inplace = False, axis = 1).head(10000).astype('float32'))"
   ]
  }
 ],
 "metadata": {
  "kernelspec": {
   "display_name": "Python 3",
   "language": "python",
   "name": "python3"
  },
  "language_info": {
   "codemirror_mode": {
    "name": "ipython",
    "version": 3
   },
   "file_extension": ".py",
   "mimetype": "text/x-python",
   "name": "python",
   "nbconvert_exporter": "python",
   "pygments_lexer": "ipython3",
   "version": "3.6.3"
  }
 },
 "nbformat": 4,
 "nbformat_minor": 2
}
